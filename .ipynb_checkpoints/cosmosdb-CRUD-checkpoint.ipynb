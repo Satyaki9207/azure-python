{
 "cells": [
  {
   "cell_type": "code",
   "execution_count": 6,
   "id": "0184b460-1037-4cd9-955a-5586501713ce",
   "metadata": {},
   "outputs": [],
   "source": [
    "# !pip install azure-cosmos"
   ]
  },
  {
   "cell_type": "code",
   "execution_count": 3,
   "id": "e1efd152-408b-4ffc-8e6f-b288c95a620c",
   "metadata": {},
   "outputs": [],
   "source": [
    "connection_string=\"AccountEndpoint=https://cosmos119.documents.azure.com:443/;AccountKey=1s6WZvqVTIbvyEG9l8FezwODbOhZrcb1mKnFClbbeaVFwVOLyeX2ZUZMAz03lyz48bparjasLGXHACDbTAVhew==;\""
   ]
  },
  {
   "cell_type": "code",
   "execution_count": 32,
   "id": "d3309c34-11b8-4c65-a283-e15aa1fee026",
   "metadata": {},
   "outputs": [],
   "source": [
    "import sys\n",
    "sys.path.insert(0,'C:\\\\users\\\\stone\\\\anaconda3\\\\envs\\\\env1\\\\lib\\\\site-packages')\n",
    "import uuid\n",
    "from azure.cosmos import CosmosClient, exceptions,PartitionKey\n",
    "import uuid"
   ]
  },
  {
   "cell_type": "markdown",
   "id": "10466bbc-dd49-438b-ac7a-6b4630b985d0",
   "metadata": {
    "jp-MarkdownHeadingCollapsed": true
   },
   "source": [
    "### Initiate client connnection"
   ]
  },
  {
   "cell_type": "code",
   "execution_count": 9,
   "id": "da2f1932-9494-4c1a-beb3-25790c05fce6",
   "metadata": {},
   "outputs": [],
   "source": [
    "db_name=\"SampleDB\"\n",
    "container_name=\"SampleContainer\"\n",
    "# Get client\n",
    "client = CosmosClient.from_connection_string(connection_string)\n",
    "\n",
    "# Get database\n",
    "database = client.get_database_client(db_name)\n",
    "\n",
    "# Get container\n",
    "container = database.get_container_client(container_name)"
   ]
  },
  {
   "cell_type": "markdown",
   "id": "ff17f1d6-c093-4f8b-bcde-4758d3043024",
   "metadata": {
    "jp-MarkdownHeadingCollapsed": true
   },
   "source": [
    "### List all databases"
   ]
  },
  {
   "cell_type": "code",
   "execution_count": 11,
   "id": "f8070962-414a-418b-97a3-1a76cce891e3",
   "metadata": {},
   "outputs": [
    {
     "data": {
      "text/plain": [
       "[{'id': 'SampleDB',\n",
       "  '_rid': 'EIREAA==',\n",
       "  '_self': 'dbs/EIREAA==/',\n",
       "  '_etag': '\"00003102-0000-0100-0000-65ebaf610000\"',\n",
       "  '_colls': 'colls/',\n",
       "  '_users': 'users/',\n",
       "  '_ts': 1709944673}]"
      ]
     },
     "execution_count": 11,
     "metadata": {},
     "output_type": "execute_result"
    }
   ],
   "source": [
    "\n",
    "list(client.list_databases())"
   ]
  },
  {
   "cell_type": "markdown",
   "id": "ecf7c9cd-0028-4076-85f8-4bb04e97f246",
   "metadata": {
    "jp-MarkdownHeadingCollapsed": true
   },
   "source": [
    "### List all containers in a database"
   ]
  },
  {
   "cell_type": "code",
   "execution_count": 10,
   "id": "f3f15e0d-4148-4709-acec-a54f3394a69a",
   "metadata": {},
   "outputs": [
    {
     "data": {
      "text/plain": [
       "[{'id': 'SampleContainer',\n",
       "  'indexingPolicy': {'indexingMode': 'consistent',\n",
       "   'automatic': True,\n",
       "   'includedPaths': [{'path': '/*'}],\n",
       "   'excludedPaths': [{'path': '/\"_etag\"/?'}]},\n",
       "  'partitionKey': {'paths': ['/categoryId'], 'kind': 'Hash', 'version': 2},\n",
       "  'uniqueKeyPolicy': {'uniqueKeys': []},\n",
       "  'conflictResolutionPolicy': {'mode': 'LastWriterWins',\n",
       "   'conflictResolutionPath': '/_ts',\n",
       "   'conflictResolutionProcedure': ''},\n",
       "  'geospatialConfig': {'type': 'Geography'},\n",
       "  '_rid': 'EIREAOKVKhM=',\n",
       "  '_ts': 1709944690,\n",
       "  '_self': 'dbs/EIREAA==/colls/EIREAOKVKhM=/',\n",
       "  '_etag': '\"00003502-0000-0100-0000-65ebaf720000\"',\n",
       "  '_docs': 'docs/',\n",
       "  '_sprocs': 'sprocs/',\n",
       "  '_triggers': 'triggers/',\n",
       "  '_udfs': 'udfs/',\n",
       "  '_conflicts': 'conflicts/',\n",
       "  'computedProperties': []}]"
      ]
     },
     "execution_count": 10,
     "metadata": {},
     "output_type": "execute_result"
    }
   ],
   "source": [
    "\n",
    "container_list=list(database.list_containers())\n",
    "container_list"
   ]
  },
  {
   "cell_type": "markdown",
   "id": "681cbe4b-412b-43e4-8250-8ecdee5c15b7",
   "metadata": {
    "jp-MarkdownHeadingCollapsed": true
   },
   "source": [
    "### Read all items in a container"
   ]
  },
  {
   "cell_type": "code",
   "execution_count": 14,
   "id": "5026e118-1e93-40a2-ae31-2c017b5879ce",
   "metadata": {},
   "outputs": [
    {
     "data": {
      "text/plain": [
       "{'id': 'E2FD2420-B084-4764-8BC4-94574DFF1AC6',\n",
       " 'categoryId': 'AE48F0AA-4F65-4734-A4CF-D48B8F82267F',\n",
       " 'categoryName': 'Bikes, Road Bikes',\n",
       " 'sku': 'BK-R68R-48',\n",
       " 'name': 'Road-450 Red, 48',\n",
       " 'description': 'The product called \"Road-450 Red, 48\"',\n",
       " 'price': 1457.99,\n",
       " 'tags': [{'id': '1CFF105D-294E-4E2D-ADE4-0615CBDEBC28', 'name': 'Tag-44'},\n",
       "  {'id': '3A3A99B6-E3BF-46D0-BAD9-F5F4DBB720F4', 'name': 'Tag-70'},\n",
       "  {'id': '52E5F264-BA4E-4A8B-BF8C-69E50F81B676', 'name': 'Tag-67'},\n",
       "  {'id': '6FB11EB9-319C-431C-89D7-70113401D186', 'name': 'Tag-154'},\n",
       "  {'id': 'DCDBD26C-4D71-4F91-BBE9-98D1897E704D', 'name': 'Tag-68'}],\n",
       " '_rid': 'EIREAOKVKhMGAAAAAAAAAA==',\n",
       " '_self': 'dbs/EIREAA==/colls/EIREAOKVKhM=/docs/EIREAOKVKhMGAAAAAAAAAA==/',\n",
       " '_etag': '\"f50009bf-0000-0100-0000-65ebaf8c0000\"',\n",
       " '_attachments': 'attachments/',\n",
       " '_ts': 1709944716}"
      ]
     },
     "execution_count": 14,
     "metadata": {},
     "output_type": "execute_result"
    }
   ],
   "source": [
    "\n",
    "container_items=list(container.read_all_items())\n",
    "container_items[5]"
   ]
  },
  {
   "cell_type": "markdown",
   "id": "ee6466ab-610b-4836-8997-02ff8b6bb176",
   "metadata": {
    "jp-MarkdownHeadingCollapsed": true
   },
   "source": [
    "### Query Items"
   ]
  },
  {
   "cell_type": "code",
   "execution_count": 30,
   "id": "5715685d-2bd9-4041-a35b-a08df922dc4d",
   "metadata": {},
   "outputs": [
    {
     "data": {
      "text/plain": [
       "[{'id': 'E2FD2420-B084-4764-8BC4-94574DFF1AC6',\n",
       "  'categoryId': 'AE48F0AA-4F65-4734-A4CF-D48B8F82267F',\n",
       "  'categoryName': 'Bikes, Road Bikes',\n",
       "  'sku': 'BK-R68R-48',\n",
       "  'name': 'Road-450 Red, 48',\n",
       "  'description': 'The product called \"Road-450 Red, 48\"',\n",
       "  'price': 1457.99,\n",
       "  'tags': [{'id': '1CFF105D-294E-4E2D-ADE4-0615CBDEBC28', 'name': 'Tag-44'},\n",
       "   {'id': '3A3A99B6-E3BF-46D0-BAD9-F5F4DBB720F4', 'name': 'Tag-70'},\n",
       "   {'id': '52E5F264-BA4E-4A8B-BF8C-69E50F81B676', 'name': 'Tag-67'},\n",
       "   {'id': '6FB11EB9-319C-431C-89D7-70113401D186', 'name': 'Tag-154'},\n",
       "   {'id': 'DCDBD26C-4D71-4F91-BBE9-98D1897E704D', 'name': 'Tag-68'}],\n",
       "  '_rid': 'EIREAOKVKhMGAAAAAAAAAA==',\n",
       "  '_self': 'dbs/EIREAA==/colls/EIREAOKVKhM=/docs/EIREAOKVKhMGAAAAAAAAAA==/',\n",
       "  '_etag': '\"f50009bf-0000-0100-0000-65ebaf8c0000\"',\n",
       "  '_attachments': 'attachments/',\n",
       "  '_ts': 1709944716}]"
      ]
     },
     "execution_count": 30,
     "metadata": {},
     "output_type": "execute_result"
    }
   ],
   "source": [
    "cat_id='AE48F0AA-4F65-4734-A4CF-D48B8F82267F'\n",
    "id='E2FD2420-B084-4764-8BC4-94574DFF1AC6'\n",
    "query= f\"SELECT * FROM c WHERE c.categoryId = \\\"{cat_id}\\\"\"\n",
    "query1=f\"SELECT * FROM c WHERE c.id = \\\"{id}\\\"\"\n",
    "\n",
    "items = container.query_items(\n",
    "    query=query1,\n",
    "    enable_cross_partition_query=True\n",
    "    # partition_key = PartitionKey(path=\"categoryId\")\n",
    ")\n",
    "list(items)"
   ]
  },
  {
   "cell_type": "markdown",
   "id": "4c839573-017d-42bd-ad3f-5cb759692a6d",
   "metadata": {},
   "source": [
    "### Create Items"
   ]
  },
  {
   "cell_type": "code",
   "execution_count": 36,
   "id": "2dc10bcf-0956-4e22-85c7-4ee3921addcd",
   "metadata": {},
   "outputs": [
    {
     "data": {
      "text/plain": [
       "{'id': '8c58487f-da9a-4842-9936-534346fbed70',\n",
       " 'categoryId': 'AE48F0AA-4F65-4734-A4CF-D48B8F82267F',\n",
       " 'categoryName': 'Bikes, Road Bikes',\n",
       " '_rid': 'EIREAOKVKhMoAQAAAAAAAA==',\n",
       " '_self': 'dbs/EIREAA==/colls/EIREAOKVKhM=/docs/EIREAOKVKhMoAQAAAAAAAA==/',\n",
       " '_etag': '\"f6007d9c-0000-0100-0000-65ebe1c70000\"',\n",
       " '_attachments': 'attachments/',\n",
       " '_ts': 1709957575}"
      ]
     },
     "execution_count": 36,
     "metadata": {},
     "output_type": "execute_result"
    }
   ],
   "source": [
    "\n",
    "# id=str(uuid.uuid4())\n",
    "id='8c58487f-da9a-4842-9936-534346fbed70'\n",
    "\n",
    "item={\n",
    "    'id':id,\n",
    "    'categoryId':'AE48F0AA-4F65-4734-A4CF-D48B8F82267F',\n",
    "    'categoryName': 'Bikes, Road Bikes',\n",
    "    }\n",
    "\n",
    "container.create_item(item)"
   ]
  },
  {
   "cell_type": "code",
   "execution_count": 37,
   "id": "1ad64aa7-c4fb-495a-9554-e511f468da6b",
   "metadata": {},
   "outputs": [
    {
     "data": {
      "text/plain": [
       "[{'id': '8c58487f-da9a-4842-9936-534346fbed70',\n",
       "  'categoryId': 'AE48F0AA-4F65-4734-A4CF-D48B8F82267F',\n",
       "  'categoryName': 'Bikes, Road Bikes',\n",
       "  '_rid': 'EIREAOKVKhMoAQAAAAAAAA==',\n",
       "  '_self': 'dbs/EIREAA==/colls/EIREAOKVKhM=/docs/EIREAOKVKhMoAQAAAAAAAA==/',\n",
       "  '_etag': '\"f6007d9c-0000-0100-0000-65ebe1c70000\"',\n",
       "  '_attachments': 'attachments/',\n",
       "  '_ts': 1709957575}]"
      ]
     },
     "execution_count": 37,
     "metadata": {},
     "output_type": "execute_result"
    }
   ],
   "source": [
    "# Checking if the item was created\n",
    "query= f\"SELECT * FROM c WHERE c.id = \\\"{id}\\\"\"\n",
    "items = container.query_items(\n",
    "    query=query,\n",
    "    enable_cross_partition_query=True\n",
    "    # partition_key = PartitionKey(path=\"categoryId\")\n",
    ")\n",
    "list(items)"
   ]
  },
  {
   "cell_type": "markdown",
   "id": "c7bcfa65-4d3b-4ca0-94a1-9c91fa55a51f",
   "metadata": {},
   "source": [
    "### Update Items\n",
    "<p>\n",
    "    pass value of the partition key (in this case category_id) to the read_item method\n",
    "</p>"
   ]
  },
  {
   "cell_type": "code",
   "execution_count": 49,
   "id": "7c4aaf91-cd9f-458f-b0d8-bda9118eed0f",
   "metadata": {},
   "outputs": [
    {
     "data": {
      "text/plain": [
       "{'id': '8c58487f-da9a-4842-9936-534346fbed70',\n",
       " 'categoryId': 'AE48F0AA-4F65-4734-A4CF-D48B8F82267F',\n",
       " 'categoryName': 'Bikes, Road Bikes',\n",
       " '_rid': 'EIREAOKVKhMoAQAAAAAAAA==',\n",
       " '_self': 'dbs/EIREAA==/colls/EIREAOKVKhM=/docs/EIREAOKVKhMoAQAAAAAAAA==/',\n",
       " '_etag': '\"f60011be-0000-0100-0000-65ebea3b0000\"',\n",
       " '_attachments': 'attachments/',\n",
       " 'name': 'Changed item name',\n",
       " '_ts': 1709959739}"
      ]
     },
     "execution_count": 49,
     "metadata": {},
     "output_type": "execute_result"
    }
   ],
   "source": [
    "id='8c58487f-da9a-4842-9936-534346fbed70'\n",
    "item=container.read_item(id,partition_key='AE48F0AA-4F65-4734-A4CF-D48B8F82267F')\n",
    "new_item=item.copy()\n",
    "new_item['name']='Changed item name'\n",
    "\n",
    "# Replace the item with updated data\n",
    "container.replace_item(item,new_item)"
   ]
  },
  {
   "cell_type": "markdown",
   "id": "7bfda962-7382-49e7-babe-a5d222f67dc5",
   "metadata": {},
   "source": [
    "### Delete Item"
   ]
  },
  {
   "cell_type": "code",
   "execution_count": 51,
   "id": "7e1884ce-e740-4ebd-9724-0180a253439b",
   "metadata": {},
   "outputs": [],
   "source": [
    "item_id='8c58487f-da9a-4842-9936-534346fbed70'\n",
    "container.delete_item(item_id,partition_key='AE48F0AA-4F65-4734-A4CF-D48B8F82267F')"
   ]
  },
  {
   "cell_type": "code",
   "execution_count": null,
   "id": "8792b0e4-28ac-46b6-828f-d9c5e272695a",
   "metadata": {},
   "outputs": [],
   "source": []
  },
  {
   "cell_type": "code",
   "execution_count": null,
   "id": "91a641ad-0408-4665-a2bb-32f8c82fbf7b",
   "metadata": {},
   "outputs": [],
   "source": []
  },
  {
   "cell_type": "code",
   "execution_count": null,
   "id": "0fda67c9-7495-46dc-9b37-2e4848e49889",
   "metadata": {},
   "outputs": [],
   "source": []
  },
  {
   "cell_type": "code",
   "execution_count": null,
   "id": "55922f85-2e3b-4661-a9ab-8728be76fb6f",
   "metadata": {},
   "outputs": [],
   "source": []
  }
 ],
 "metadata": {
  "kernelspec": {
   "display_name": "Python 3 (ipykernel)",
   "language": "python",
   "name": "python3"
  },
  "language_info": {
   "codemirror_mode": {
    "name": "ipython",
    "version": 3
   },
   "file_extension": ".py",
   "mimetype": "text/x-python",
   "name": "python",
   "nbconvert_exporter": "python",
   "pygments_lexer": "ipython3",
   "version": "3.8.18"
  }
 },
 "nbformat": 4,
 "nbformat_minor": 5
}
